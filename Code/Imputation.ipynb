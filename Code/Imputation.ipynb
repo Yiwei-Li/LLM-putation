{
 "cells": [
  {
   "cell_type": "code",
   "execution_count": 1,
   "metadata": {},
   "outputs": [
    {
     "name": "stdout",
     "output_type": "stream",
     "text": [
      "Intel MKL WARNING: Support of Intel(R) Streaming SIMD Extensions 4.2 (Intel(R) SSE4.2) enabled only processors has been deprecated. Intel oneAPI Math Kernel Library 2025.0 will require Intel(R) Advanced Vector Extensions (Intel(R) AVX) instructions.\n",
      "Intel MKL WARNING: Support of Intel(R) Streaming SIMD Extensions 4.2 (Intel(R) SSE4.2) enabled only processors has been deprecated. Intel oneAPI Math Kernel Library 2025.0 will require Intel(R) Advanced Vector Extensions (Intel(R) AVX) instructions.\n"
     ]
    }
   ],
   "source": [
    "import pandas as pd\n",
    "import numpy as np"
   ]
  },
  {
   "cell_type": "code",
   "execution_count": 2,
   "metadata": {},
   "outputs": [],
   "source": [
    "# read in complete data\n",
    "complete = pd.read_csv(\"completeExpr.csv\", index_col=0)"
   ]
  },
  {
   "cell_type": "code",
   "execution_count": 3,
   "metadata": {},
   "outputs": [
    {
     "data": {
      "text/plain": [
       "(3096, 14003)"
      ]
     },
     "execution_count": 3,
     "metadata": {},
     "output_type": "execute_result"
    }
   ],
   "source": [
    "complete.shape"
   ]
  },
  {
   "cell_type": "code",
   "execution_count": 4,
   "metadata": {},
   "outputs": [
    {
     "data": {
      "text/html": [
       "<div>\n",
       "<style scoped>\n",
       "    .dataframe tbody tr th:only-of-type {\n",
       "        vertical-align: middle;\n",
       "    }\n",
       "\n",
       "    .dataframe tbody tr th {\n",
       "        vertical-align: top;\n",
       "    }\n",
       "\n",
       "    .dataframe thead th {\n",
       "        text-align: right;\n",
       "    }\n",
       "</style>\n",
       "<table border=\"1\" class=\"dataframe\">\n",
       "  <thead>\n",
       "    <tr style=\"text-align: right;\">\n",
       "      <th></th>\n",
       "      <th>p1</th>\n",
       "      <th>p2</th>\n",
       "      <th>p3</th>\n",
       "      <th>p4</th>\n",
       "      <th>p5</th>\n",
       "      <th>p6</th>\n",
       "      <th>p7</th>\n",
       "      <th>p8</th>\n",
       "      <th>p9</th>\n",
       "      <th>p10</th>\n",
       "      <th>...</th>\n",
       "      <th>p3087</th>\n",
       "      <th>p3088</th>\n",
       "      <th>p3089</th>\n",
       "      <th>p3090</th>\n",
       "      <th>p3091</th>\n",
       "      <th>p3092</th>\n",
       "      <th>p3093</th>\n",
       "      <th>p3094</th>\n",
       "      <th>p3095</th>\n",
       "      <th>p3096</th>\n",
       "    </tr>\n",
       "  </thead>\n",
       "  <tbody>\n",
       "    <tr>\n",
       "      <th>A1CF</th>\n",
       "      <td>0.034754</td>\n",
       "      <td>-1.035830</td>\n",
       "      <td>-0.644251</td>\n",
       "      <td>-0.301869</td>\n",
       "      <td>-0.508497</td>\n",
       "      <td>-0.100324</td>\n",
       "      <td>-0.402016</td>\n",
       "      <td>-0.082245</td>\n",
       "      <td>0.313805</td>\n",
       "      <td>-0.232225</td>\n",
       "      <td>...</td>\n",
       "      <td>-0.094521</td>\n",
       "      <td>0.146812</td>\n",
       "      <td>-0.143388</td>\n",
       "      <td>0.215818</td>\n",
       "      <td>-0.082560</td>\n",
       "      <td>-0.037184</td>\n",
       "      <td>-0.820075</td>\n",
       "      <td>-0.042315</td>\n",
       "      <td>0.103525</td>\n",
       "      <td>-0.025957</td>\n",
       "    </tr>\n",
       "    <tr>\n",
       "      <th>A2M</th>\n",
       "      <td>0.288997</td>\n",
       "      <td>-0.018051</td>\n",
       "      <td>-8.514246</td>\n",
       "      <td>0.015577</td>\n",
       "      <td>-0.638949</td>\n",
       "      <td>3.576826</td>\n",
       "      <td>-0.000895</td>\n",
       "      <td>-0.032116</td>\n",
       "      <td>0.370526</td>\n",
       "      <td>0.135253</td>\n",
       "      <td>...</td>\n",
       "      <td>0.044040</td>\n",
       "      <td>0.079441</td>\n",
       "      <td>-0.000599</td>\n",
       "      <td>0.568577</td>\n",
       "      <td>0.746766</td>\n",
       "      <td>0.193966</td>\n",
       "      <td>-0.031147</td>\n",
       "      <td>0.152870</td>\n",
       "      <td>-0.041297</td>\n",
       "      <td>0.213473</td>\n",
       "    </tr>\n",
       "    <tr>\n",
       "      <th>A2ML1</th>\n",
       "      <td>-0.442144</td>\n",
       "      <td>-0.519741</td>\n",
       "      <td>-1.903725</td>\n",
       "      <td>-0.741799</td>\n",
       "      <td>-0.938857</td>\n",
       "      <td>-0.478538</td>\n",
       "      <td>-0.580323</td>\n",
       "      <td>-0.709895</td>\n",
       "      <td>1.557578</td>\n",
       "      <td>2.350527</td>\n",
       "      <td>...</td>\n",
       "      <td>-0.276216</td>\n",
       "      <td>-0.097540</td>\n",
       "      <td>-0.510364</td>\n",
       "      <td>2.203258</td>\n",
       "      <td>0.316485</td>\n",
       "      <td>0.527467</td>\n",
       "      <td>-0.668684</td>\n",
       "      <td>0.305148</td>\n",
       "      <td>-0.710331</td>\n",
       "      <td>0.631003</td>\n",
       "    </tr>\n",
       "    <tr>\n",
       "      <th>A4GALT</th>\n",
       "      <td>0.002402</td>\n",
       "      <td>-0.146944</td>\n",
       "      <td>-0.334566</td>\n",
       "      <td>-0.406734</td>\n",
       "      <td>-0.500678</td>\n",
       "      <td>0.107965</td>\n",
       "      <td>-1.224029</td>\n",
       "      <td>-0.241390</td>\n",
       "      <td>0.207367</td>\n",
       "      <td>-0.312079</td>\n",
       "      <td>...</td>\n",
       "      <td>-0.088926</td>\n",
       "      <td>-0.047279</td>\n",
       "      <td>-0.180655</td>\n",
       "      <td>0.611447</td>\n",
       "      <td>1.753172</td>\n",
       "      <td>0.003910</td>\n",
       "      <td>-0.356796</td>\n",
       "      <td>-0.020981</td>\n",
       "      <td>-0.399086</td>\n",
       "      <td>0.008706</td>\n",
       "    </tr>\n",
       "    <tr>\n",
       "      <th>A4GNT</th>\n",
       "      <td>0.002245</td>\n",
       "      <td>-0.113014</td>\n",
       "      <td>-0.541670</td>\n",
       "      <td>-0.144658</td>\n",
       "      <td>-0.221380</td>\n",
       "      <td>0.594788</td>\n",
       "      <td>-2.391317</td>\n",
       "      <td>-0.699465</td>\n",
       "      <td>1.161750</td>\n",
       "      <td>0.860161</td>\n",
       "      <td>...</td>\n",
       "      <td>0.627779</td>\n",
       "      <td>-0.590147</td>\n",
       "      <td>-0.106350</td>\n",
       "      <td>2.749847</td>\n",
       "      <td>-0.553453</td>\n",
       "      <td>0.020364</td>\n",
       "      <td>-0.079092</td>\n",
       "      <td>-0.391635</td>\n",
       "      <td>0.958123</td>\n",
       "      <td>1.354622</td>\n",
       "    </tr>\n",
       "  </tbody>\n",
       "</table>\n",
       "<p>5 rows × 3096 columns</p>\n",
       "</div>"
      ],
      "text/plain": [
       "              p1        p2        p3        p4        p5        p6        p7   \n",
       "A1CF    0.034754 -1.035830 -0.644251 -0.301869 -0.508497 -0.100324 -0.402016  \\\n",
       "A2M     0.288997 -0.018051 -8.514246  0.015577 -0.638949  3.576826 -0.000895   \n",
       "A2ML1  -0.442144 -0.519741 -1.903725 -0.741799 -0.938857 -0.478538 -0.580323   \n",
       "A4GALT  0.002402 -0.146944 -0.334566 -0.406734 -0.500678  0.107965 -1.224029   \n",
       "A4GNT   0.002245 -0.113014 -0.541670 -0.144658 -0.221380  0.594788 -2.391317   \n",
       "\n",
       "              p8        p9       p10  ...     p3087     p3088     p3089   \n",
       "A1CF   -0.082245  0.313805 -0.232225  ... -0.094521  0.146812 -0.143388  \\\n",
       "A2M    -0.032116  0.370526  0.135253  ...  0.044040  0.079441 -0.000599   \n",
       "A2ML1  -0.709895  1.557578  2.350527  ... -0.276216 -0.097540 -0.510364   \n",
       "A4GALT -0.241390  0.207367 -0.312079  ... -0.088926 -0.047279 -0.180655   \n",
       "A4GNT  -0.699465  1.161750  0.860161  ...  0.627779 -0.590147 -0.106350   \n",
       "\n",
       "           p3090     p3091     p3092     p3093     p3094     p3095     p3096  \n",
       "A1CF    0.215818 -0.082560 -0.037184 -0.820075 -0.042315  0.103525 -0.025957  \n",
       "A2M     0.568577  0.746766  0.193966 -0.031147  0.152870 -0.041297  0.213473  \n",
       "A2ML1   2.203258  0.316485  0.527467 -0.668684  0.305148 -0.710331  0.631003  \n",
       "A4GALT  0.611447  1.753172  0.003910 -0.356796 -0.020981 -0.399086  0.008706  \n",
       "A4GNT   2.749847 -0.553453  0.020364 -0.079092 -0.391635  0.958123  1.354622  \n",
       "\n",
       "[5 rows x 3096 columns]"
      ]
     },
     "execution_count": 4,
     "metadata": {},
     "output_type": "execute_result"
    }
   ],
   "source": [
    "complete = complete.transpose()\n",
    "\n",
    "# reset colnames\n",
    "complete.columns = ['p' + str(i) for i in range(1,len(complete.columns)+1)]\n",
    "complete.head()"
   ]
  },
  {
   "cell_type": "code",
   "execution_count": 5,
   "metadata": {},
   "outputs": [],
   "source": [
    "# define function to calculate NRMSE\n",
    "def nrmse(ori, imp):\n",
    "    arr1 = ori.to_numpy()\n",
    "    arr2 = imp.to_numpy()\n",
    "\n",
    "    # Calculate RMSE\n",
    "    rmse = np.sqrt(np.sum((arr1 - arr2) ** 2) / (ori.shape[0] * ori.shape[1]))\n",
    "    # min-max \n",
    "    #nrmse = np.sqrt(mse / (np.max(arr1) - np.min(arr1)))\n",
    "    # sd\n",
    "    nrmse = rmse / np.std(arr1)\n",
    "\n",
    "    return nrmse"
   ]
  },
  {
   "cell_type": "markdown",
   "metadata": {},
   "source": [
    "### 1. Cutoff 10%"
   ]
  },
  {
   "cell_type": "code",
   "execution_count": 6,
   "metadata": {},
   "outputs": [
    {
     "data": {
      "text/html": [
       "<div>\n",
       "<style scoped>\n",
       "    .dataframe tbody tr th:only-of-type {\n",
       "        vertical-align: middle;\n",
       "    }\n",
       "\n",
       "    .dataframe tbody tr th {\n",
       "        vertical-align: top;\n",
       "    }\n",
       "\n",
       "    .dataframe thead th {\n",
       "        text-align: right;\n",
       "    }\n",
       "</style>\n",
       "<table border=\"1\" class=\"dataframe\">\n",
       "  <thead>\n",
       "    <tr style=\"text-align: right;\">\n",
       "      <th></th>\n",
       "      <th>Simulation:1, Cutoff:0.1</th>\n",
       "      <th>NA</th>\n",
       "      <th>NA.1</th>\n",
       "      <th>NA.2</th>\n",
       "      <th>NA.3</th>\n",
       "      <th>NA.4</th>\n",
       "      <th>NA.5</th>\n",
       "      <th>NA.6</th>\n",
       "      <th>NA.7</th>\n",
       "      <th>NA.8</th>\n",
       "      <th>...</th>\n",
       "      <th>NA.3085</th>\n",
       "      <th>NA.3086</th>\n",
       "      <th>NA.3087</th>\n",
       "      <th>NA.3088</th>\n",
       "      <th>NA.3089</th>\n",
       "      <th>NA.3090</th>\n",
       "      <th>NA.3091</th>\n",
       "      <th>NA.3092</th>\n",
       "      <th>NA.3093</th>\n",
       "      <th>NA.3094</th>\n",
       "    </tr>\n",
       "  </thead>\n",
       "  <tbody>\n",
       "    <tr>\n",
       "      <th>A1CF</th>\n",
       "      <td>0.034754</td>\n",
       "      <td>-1.035830</td>\n",
       "      <td>-0.644251</td>\n",
       "      <td>-0.301869</td>\n",
       "      <td>-0.508497</td>\n",
       "      <td>-0.100324</td>\n",
       "      <td>-0.402016</td>\n",
       "      <td>-0.082245</td>\n",
       "      <td>0.313805</td>\n",
       "      <td>-0.232225</td>\n",
       "      <td>...</td>\n",
       "      <td>-0.094521</td>\n",
       "      <td>0.146812</td>\n",
       "      <td>-0.143388</td>\n",
       "      <td>0.215818</td>\n",
       "      <td>-0.082560</td>\n",
       "      <td>-0.037184</td>\n",
       "      <td>-0.820075</td>\n",
       "      <td>-0.042315</td>\n",
       "      <td>0.103525</td>\n",
       "      <td>-0.025957</td>\n",
       "    </tr>\n",
       "    <tr>\n",
       "      <th>A2M</th>\n",
       "      <td>0.288997</td>\n",
       "      <td>-0.018051</td>\n",
       "      <td>-8.514246</td>\n",
       "      <td>0.015577</td>\n",
       "      <td>-0.638949</td>\n",
       "      <td>3.576826</td>\n",
       "      <td>-0.000895</td>\n",
       "      <td>-0.032116</td>\n",
       "      <td>0.370526</td>\n",
       "      <td>0.135253</td>\n",
       "      <td>...</td>\n",
       "      <td>0.044040</td>\n",
       "      <td>0.079441</td>\n",
       "      <td>-0.000599</td>\n",
       "      <td>0.568577</td>\n",
       "      <td>0.746766</td>\n",
       "      <td>0.193966</td>\n",
       "      <td>-0.031147</td>\n",
       "      <td>0.152870</td>\n",
       "      <td>-0.041297</td>\n",
       "      <td>0.213473</td>\n",
       "    </tr>\n",
       "    <tr>\n",
       "      <th>A2ML1</th>\n",
       "      <td>-0.442144</td>\n",
       "      <td>-0.519741</td>\n",
       "      <td>-1.903725</td>\n",
       "      <td>-0.741799</td>\n",
       "      <td>-0.938857</td>\n",
       "      <td>-0.478538</td>\n",
       "      <td>-0.580323</td>\n",
       "      <td>-0.709895</td>\n",
       "      <td>1.557578</td>\n",
       "      <td>2.350527</td>\n",
       "      <td>...</td>\n",
       "      <td>-0.276216</td>\n",
       "      <td>-0.097540</td>\n",
       "      <td>-0.510364</td>\n",
       "      <td>2.203258</td>\n",
       "      <td>0.316485</td>\n",
       "      <td>0.527467</td>\n",
       "      <td>-0.668684</td>\n",
       "      <td>0.305148</td>\n",
       "      <td>-0.710331</td>\n",
       "      <td>0.631003</td>\n",
       "    </tr>\n",
       "    <tr>\n",
       "      <th>A4GALT</th>\n",
       "      <td>0.002402</td>\n",
       "      <td>-0.146944</td>\n",
       "      <td>-0.334566</td>\n",
       "      <td>-0.406734</td>\n",
       "      <td>-0.500678</td>\n",
       "      <td>0.107965</td>\n",
       "      <td>-1.224029</td>\n",
       "      <td>-0.241390</td>\n",
       "      <td>0.207367</td>\n",
       "      <td>-0.312079</td>\n",
       "      <td>...</td>\n",
       "      <td>-0.088926</td>\n",
       "      <td>-0.047279</td>\n",
       "      <td>-0.180655</td>\n",
       "      <td>0.611447</td>\n",
       "      <td>1.753172</td>\n",
       "      <td>0.003910</td>\n",
       "      <td>-0.356796</td>\n",
       "      <td>-0.020981</td>\n",
       "      <td>-0.399086</td>\n",
       "      <td>0.008706</td>\n",
       "    </tr>\n",
       "    <tr>\n",
       "      <th>A4GNT</th>\n",
       "      <td>0.002245</td>\n",
       "      <td>-0.113014</td>\n",
       "      <td>-0.541670</td>\n",
       "      <td>-0.144658</td>\n",
       "      <td>-0.221380</td>\n",
       "      <td>0.594788</td>\n",
       "      <td>-2.391317</td>\n",
       "      <td>-0.699465</td>\n",
       "      <td>1.161750</td>\n",
       "      <td>0.860161</td>\n",
       "      <td>...</td>\n",
       "      <td>0.627779</td>\n",
       "      <td>-0.590147</td>\n",
       "      <td>-0.106350</td>\n",
       "      <td>2.749847</td>\n",
       "      <td>-0.553453</td>\n",
       "      <td>0.020364</td>\n",
       "      <td>-0.079092</td>\n",
       "      <td>-0.391635</td>\n",
       "      <td>0.958123</td>\n",
       "      <td>1.354622</td>\n",
       "    </tr>\n",
       "  </tbody>\n",
       "</table>\n",
       "<p>5 rows × 3096 columns</p>\n",
       "</div>"
      ],
      "text/plain": [
       "        Simulation:1, Cutoff:0.1        NA      NA.1      NA.2      NA.3   \n",
       "A1CF                    0.034754 -1.035830 -0.644251 -0.301869 -0.508497  \\\n",
       "A2M                     0.288997 -0.018051 -8.514246  0.015577 -0.638949   \n",
       "A2ML1                  -0.442144 -0.519741 -1.903725 -0.741799 -0.938857   \n",
       "A4GALT                  0.002402 -0.146944 -0.334566 -0.406734 -0.500678   \n",
       "A4GNT                   0.002245 -0.113014 -0.541670 -0.144658 -0.221380   \n",
       "\n",
       "            NA.4      NA.5      NA.6      NA.7      NA.8  ...   NA.3085   \n",
       "A1CF   -0.100324 -0.402016 -0.082245  0.313805 -0.232225  ... -0.094521  \\\n",
       "A2M     3.576826 -0.000895 -0.032116  0.370526  0.135253  ...  0.044040   \n",
       "A2ML1  -0.478538 -0.580323 -0.709895  1.557578  2.350527  ... -0.276216   \n",
       "A4GALT  0.107965 -1.224029 -0.241390  0.207367 -0.312079  ... -0.088926   \n",
       "A4GNT   0.594788 -2.391317 -0.699465  1.161750  0.860161  ...  0.627779   \n",
       "\n",
       "         NA.3086   NA.3087   NA.3088   NA.3089   NA.3090   NA.3091   NA.3092   \n",
       "A1CF    0.146812 -0.143388  0.215818 -0.082560 -0.037184 -0.820075 -0.042315  \\\n",
       "A2M     0.079441 -0.000599  0.568577  0.746766  0.193966 -0.031147  0.152870   \n",
       "A2ML1  -0.097540 -0.510364  2.203258  0.316485  0.527467 -0.668684  0.305148   \n",
       "A4GALT -0.047279 -0.180655  0.611447  1.753172  0.003910 -0.356796 -0.020981   \n",
       "A4GNT  -0.590147 -0.106350  2.749847 -0.553453  0.020364 -0.079092 -0.391635   \n",
       "\n",
       "         NA.3093   NA.3094  \n",
       "A1CF    0.103525 -0.025957  \n",
       "A2M    -0.041297  0.213473  \n",
       "A2ML1  -0.710331  0.631003  \n",
       "A4GALT -0.399086  0.008706  \n",
       "A4GNT   0.958123  1.354622  \n",
       "\n",
       "[5 rows x 3096 columns]"
      ]
     },
     "execution_count": 6,
     "metadata": {},
     "output_type": "execute_result"
    }
   ],
   "source": [
    "cutoff1 = pd.read_csv(\"Incomplete Datasets/cutoff0.1.csv\", index_col=0)\n",
    "cutoff1.head()"
   ]
  },
  {
   "cell_type": "code",
   "execution_count": 7,
   "metadata": {},
   "outputs": [
    {
     "data": {
      "text/html": [
       "<div>\n",
       "<style scoped>\n",
       "    .dataframe tbody tr th:only-of-type {\n",
       "        vertical-align: middle;\n",
       "    }\n",
       "\n",
       "    .dataframe tbody tr th {\n",
       "        vertical-align: top;\n",
       "    }\n",
       "\n",
       "    .dataframe thead th {\n",
       "        text-align: right;\n",
       "    }\n",
       "</style>\n",
       "<table border=\"1\" class=\"dataframe\">\n",
       "  <thead>\n",
       "    <tr style=\"text-align: right;\">\n",
       "      <th></th>\n",
       "      <th>p1</th>\n",
       "      <th>p2</th>\n",
       "      <th>p3</th>\n",
       "      <th>p4</th>\n",
       "      <th>p5</th>\n",
       "      <th>p6</th>\n",
       "      <th>p7</th>\n",
       "      <th>p8</th>\n",
       "      <th>p9</th>\n",
       "      <th>p10</th>\n",
       "      <th>...</th>\n",
       "      <th>p3087</th>\n",
       "      <th>p3088</th>\n",
       "      <th>p3089</th>\n",
       "      <th>p3090</th>\n",
       "      <th>p3091</th>\n",
       "      <th>p3092</th>\n",
       "      <th>p3093</th>\n",
       "      <th>p3094</th>\n",
       "      <th>p3095</th>\n",
       "      <th>p3096</th>\n",
       "    </tr>\n",
       "  </thead>\n",
       "  <tbody>\n",
       "    <tr>\n",
       "      <th>A1CF</th>\n",
       "      <td>0.034754</td>\n",
       "      <td>-1.035830</td>\n",
       "      <td>-0.644251</td>\n",
       "      <td>-0.301869</td>\n",
       "      <td>-0.508497</td>\n",
       "      <td>-0.100324</td>\n",
       "      <td>-0.402016</td>\n",
       "      <td>-0.082245</td>\n",
       "      <td>0.313805</td>\n",
       "      <td>-0.232225</td>\n",
       "      <td>...</td>\n",
       "      <td>-0.094521</td>\n",
       "      <td>0.146812</td>\n",
       "      <td>-0.143388</td>\n",
       "      <td>0.215818</td>\n",
       "      <td>-0.082560</td>\n",
       "      <td>-0.037184</td>\n",
       "      <td>-0.820075</td>\n",
       "      <td>-0.042315</td>\n",
       "      <td>0.103525</td>\n",
       "      <td>-0.025957</td>\n",
       "    </tr>\n",
       "    <tr>\n",
       "      <th>A2M</th>\n",
       "      <td>0.288997</td>\n",
       "      <td>-0.018051</td>\n",
       "      <td>-8.514246</td>\n",
       "      <td>0.015577</td>\n",
       "      <td>-0.638949</td>\n",
       "      <td>3.576826</td>\n",
       "      <td>-0.000895</td>\n",
       "      <td>-0.032116</td>\n",
       "      <td>0.370526</td>\n",
       "      <td>0.135253</td>\n",
       "      <td>...</td>\n",
       "      <td>0.044040</td>\n",
       "      <td>0.079441</td>\n",
       "      <td>-0.000599</td>\n",
       "      <td>0.568577</td>\n",
       "      <td>0.746766</td>\n",
       "      <td>0.193966</td>\n",
       "      <td>-0.031147</td>\n",
       "      <td>0.152870</td>\n",
       "      <td>-0.041297</td>\n",
       "      <td>0.213473</td>\n",
       "    </tr>\n",
       "    <tr>\n",
       "      <th>A2ML1</th>\n",
       "      <td>-0.442144</td>\n",
       "      <td>-0.519741</td>\n",
       "      <td>-1.903725</td>\n",
       "      <td>-0.741799</td>\n",
       "      <td>-0.938857</td>\n",
       "      <td>-0.478538</td>\n",
       "      <td>-0.580323</td>\n",
       "      <td>-0.709895</td>\n",
       "      <td>1.557578</td>\n",
       "      <td>2.350527</td>\n",
       "      <td>...</td>\n",
       "      <td>-0.276216</td>\n",
       "      <td>-0.097540</td>\n",
       "      <td>-0.510364</td>\n",
       "      <td>2.203258</td>\n",
       "      <td>0.316485</td>\n",
       "      <td>0.527467</td>\n",
       "      <td>-0.668684</td>\n",
       "      <td>0.305148</td>\n",
       "      <td>-0.710331</td>\n",
       "      <td>0.631003</td>\n",
       "    </tr>\n",
       "    <tr>\n",
       "      <th>A4GALT</th>\n",
       "      <td>0.002402</td>\n",
       "      <td>-0.146944</td>\n",
       "      <td>-0.334566</td>\n",
       "      <td>-0.406734</td>\n",
       "      <td>-0.500678</td>\n",
       "      <td>0.107965</td>\n",
       "      <td>-1.224029</td>\n",
       "      <td>-0.241390</td>\n",
       "      <td>0.207367</td>\n",
       "      <td>-0.312079</td>\n",
       "      <td>...</td>\n",
       "      <td>-0.088926</td>\n",
       "      <td>-0.047279</td>\n",
       "      <td>-0.180655</td>\n",
       "      <td>0.611447</td>\n",
       "      <td>1.753172</td>\n",
       "      <td>0.003910</td>\n",
       "      <td>-0.356796</td>\n",
       "      <td>-0.020981</td>\n",
       "      <td>-0.399086</td>\n",
       "      <td>0.008706</td>\n",
       "    </tr>\n",
       "    <tr>\n",
       "      <th>A4GNT</th>\n",
       "      <td>0.002245</td>\n",
       "      <td>-0.113014</td>\n",
       "      <td>-0.541670</td>\n",
       "      <td>-0.144658</td>\n",
       "      <td>-0.221380</td>\n",
       "      <td>0.594788</td>\n",
       "      <td>-2.391317</td>\n",
       "      <td>-0.699465</td>\n",
       "      <td>1.161750</td>\n",
       "      <td>0.860161</td>\n",
       "      <td>...</td>\n",
       "      <td>0.627779</td>\n",
       "      <td>-0.590147</td>\n",
       "      <td>-0.106350</td>\n",
       "      <td>2.749847</td>\n",
       "      <td>-0.553453</td>\n",
       "      <td>0.020364</td>\n",
       "      <td>-0.079092</td>\n",
       "      <td>-0.391635</td>\n",
       "      <td>0.958123</td>\n",
       "      <td>1.354622</td>\n",
       "    </tr>\n",
       "  </tbody>\n",
       "</table>\n",
       "<p>5 rows × 3096 columns</p>\n",
       "</div>"
      ],
      "text/plain": [
       "              p1        p2        p3        p4        p5        p6        p7   \n",
       "A1CF    0.034754 -1.035830 -0.644251 -0.301869 -0.508497 -0.100324 -0.402016  \\\n",
       "A2M     0.288997 -0.018051 -8.514246  0.015577 -0.638949  3.576826 -0.000895   \n",
       "A2ML1  -0.442144 -0.519741 -1.903725 -0.741799 -0.938857 -0.478538 -0.580323   \n",
       "A4GALT  0.002402 -0.146944 -0.334566 -0.406734 -0.500678  0.107965 -1.224029   \n",
       "A4GNT   0.002245 -0.113014 -0.541670 -0.144658 -0.221380  0.594788 -2.391317   \n",
       "\n",
       "              p8        p9       p10  ...     p3087     p3088     p3089   \n",
       "A1CF   -0.082245  0.313805 -0.232225  ... -0.094521  0.146812 -0.143388  \\\n",
       "A2M    -0.032116  0.370526  0.135253  ...  0.044040  0.079441 -0.000599   \n",
       "A2ML1  -0.709895  1.557578  2.350527  ... -0.276216 -0.097540 -0.510364   \n",
       "A4GALT -0.241390  0.207367 -0.312079  ... -0.088926 -0.047279 -0.180655   \n",
       "A4GNT  -0.699465  1.161750  0.860161  ...  0.627779 -0.590147 -0.106350   \n",
       "\n",
       "           p3090     p3091     p3092     p3093     p3094     p3095     p3096  \n",
       "A1CF    0.215818 -0.082560 -0.037184 -0.820075 -0.042315  0.103525 -0.025957  \n",
       "A2M     0.568577  0.746766  0.193966 -0.031147  0.152870 -0.041297  0.213473  \n",
       "A2ML1   2.203258  0.316485  0.527467 -0.668684  0.305148 -0.710331  0.631003  \n",
       "A4GALT  0.611447  1.753172  0.003910 -0.356796 -0.020981 -0.399086  0.008706  \n",
       "A4GNT   2.749847 -0.553453  0.020364 -0.079092 -0.391635  0.958123  1.354622  \n",
       "\n",
       "[5 rows x 3096 columns]"
      ]
     },
     "execution_count": 7,
     "metadata": {},
     "output_type": "execute_result"
    }
   ],
   "source": [
    "# reset colnames\n",
    "cutoff1.columns = ['p' + str(i) for i in range(1,len(cutoff1.columns)+1)]\n",
    "cutoff1.head()"
   ]
  },
  {
   "cell_type": "code",
   "execution_count": 8,
   "metadata": {},
   "outputs": [
    {
     "data": {
      "text/plain": [
       "0.004719757357273571"
      ]
     },
     "execution_count": 8,
     "metadata": {},
     "output_type": "execute_result"
    }
   ],
   "source": [
    "# convert string 'NA' to np.nan\n",
    "cutoff1 = cutoff1.replace(\"NA\", np.nan)\n",
    "\n",
    "# check for missing percent\n",
    "cutoff1.isna().sum().sum() / (cutoff1.shape[0] * cutoff1.shape[1])"
   ]
  },
  {
   "cell_type": "markdown",
   "metadata": {},
   "source": [
    "The dataset has approximately 0.47% missing values. This is a relatively small proportion, and therefore, any of the imputation methods (mean, KNN, or MICE) could be used."
   ]
  },
  {
   "cell_type": "markdown",
   "metadata": {},
   "source": [
    "#### 1.1 KNN"
   ]
  },
  {
   "cell_type": "code",
   "execution_count": 9,
   "metadata": {},
   "outputs": [],
   "source": [
    "from sklearn.impute import KNNImputer"
   ]
  },
  {
   "cell_type": "code",
   "execution_count": 10,
   "metadata": {},
   "outputs": [],
   "source": [
    "# Initialize the KNN imputer\n",
    "imputer = KNNImputer(n_neighbors=5)\n",
    "\n",
    "# Perform the imputation\n",
    "imputed1_KNN5 = imputer.fit_transform(cutoff1)\n",
    "\n",
    "# Convert the imputed data back into a DataFrame and preserve the original index and column names\n",
    "imputed1_KNN5 = pd.DataFrame(imputed1_KNN5, columns=cutoff1.columns, index=cutoff1.index)\n",
    "\n",
    "#imputed1_KNN5.head()"
   ]
  },
  {
   "cell_type": "code",
   "execution_count": 11,
   "metadata": {},
   "outputs": [
    {
     "data": {
      "text/plain": [
       "0.06493960572985888"
      ]
     },
     "execution_count": 11,
     "metadata": {},
     "output_type": "execute_result"
    }
   ],
   "source": [
    "nrmse(complete, imputed1_KNN5)"
   ]
  },
  {
   "cell_type": "code",
   "execution_count": 12,
   "metadata": {},
   "outputs": [
    {
     "data": {
      "text/html": [
       "<div>\n",
       "<style scoped>\n",
       "    .dataframe tbody tr th:only-of-type {\n",
       "        vertical-align: middle;\n",
       "    }\n",
       "\n",
       "    .dataframe tbody tr th {\n",
       "        vertical-align: top;\n",
       "    }\n",
       "\n",
       "    .dataframe thead th {\n",
       "        text-align: right;\n",
       "    }\n",
       "</style>\n",
       "<table border=\"1\" class=\"dataframe\">\n",
       "  <thead>\n",
       "    <tr style=\"text-align: right;\">\n",
       "      <th></th>\n",
       "      <th>p1</th>\n",
       "      <th>p2</th>\n",
       "      <th>p3</th>\n",
       "      <th>p4</th>\n",
       "      <th>p5</th>\n",
       "      <th>p6</th>\n",
       "      <th>p7</th>\n",
       "      <th>p8</th>\n",
       "      <th>p9</th>\n",
       "      <th>p10</th>\n",
       "      <th>...</th>\n",
       "      <th>p3087</th>\n",
       "      <th>p3088</th>\n",
       "      <th>p3089</th>\n",
       "      <th>p3090</th>\n",
       "      <th>p3091</th>\n",
       "      <th>p3092</th>\n",
       "      <th>p3093</th>\n",
       "      <th>p3094</th>\n",
       "      <th>p3095</th>\n",
       "      <th>p3096</th>\n",
       "    </tr>\n",
       "  </thead>\n",
       "  <tbody>\n",
       "    <tr>\n",
       "      <th>A1CF</th>\n",
       "      <td>0.034754</td>\n",
       "      <td>-1.035830</td>\n",
       "      <td>-0.644251</td>\n",
       "      <td>-0.301869</td>\n",
       "      <td>-0.508497</td>\n",
       "      <td>-0.100324</td>\n",
       "      <td>-0.402016</td>\n",
       "      <td>-0.082245</td>\n",
       "      <td>0.313805</td>\n",
       "      <td>-0.232225</td>\n",
       "      <td>...</td>\n",
       "      <td>-0.094521</td>\n",
       "      <td>0.146812</td>\n",
       "      <td>-0.143388</td>\n",
       "      <td>0.215818</td>\n",
       "      <td>-0.082560</td>\n",
       "      <td>-0.037184</td>\n",
       "      <td>-0.820075</td>\n",
       "      <td>-0.042315</td>\n",
       "      <td>0.103525</td>\n",
       "      <td>-0.025957</td>\n",
       "    </tr>\n",
       "    <tr>\n",
       "      <th>A2M</th>\n",
       "      <td>0.288997</td>\n",
       "      <td>-0.018051</td>\n",
       "      <td>-8.514246</td>\n",
       "      <td>0.015577</td>\n",
       "      <td>-0.638949</td>\n",
       "      <td>3.576826</td>\n",
       "      <td>-0.000895</td>\n",
       "      <td>-0.032116</td>\n",
       "      <td>0.370526</td>\n",
       "      <td>0.135253</td>\n",
       "      <td>...</td>\n",
       "      <td>0.044040</td>\n",
       "      <td>0.079441</td>\n",
       "      <td>-0.000599</td>\n",
       "      <td>0.568577</td>\n",
       "      <td>0.746766</td>\n",
       "      <td>0.193966</td>\n",
       "      <td>-0.031147</td>\n",
       "      <td>0.152870</td>\n",
       "      <td>-0.041297</td>\n",
       "      <td>0.213473</td>\n",
       "    </tr>\n",
       "    <tr>\n",
       "      <th>A2ML1</th>\n",
       "      <td>-0.442144</td>\n",
       "      <td>-0.519741</td>\n",
       "      <td>-1.903725</td>\n",
       "      <td>-0.741799</td>\n",
       "      <td>-0.938857</td>\n",
       "      <td>-0.478538</td>\n",
       "      <td>-0.580323</td>\n",
       "      <td>-0.709895</td>\n",
       "      <td>1.557578</td>\n",
       "      <td>2.350527</td>\n",
       "      <td>...</td>\n",
       "      <td>-0.276216</td>\n",
       "      <td>-0.097540</td>\n",
       "      <td>-0.510364</td>\n",
       "      <td>2.203258</td>\n",
       "      <td>0.316485</td>\n",
       "      <td>0.527467</td>\n",
       "      <td>-0.668684</td>\n",
       "      <td>0.305148</td>\n",
       "      <td>-0.710331</td>\n",
       "      <td>0.631003</td>\n",
       "    </tr>\n",
       "    <tr>\n",
       "      <th>A4GALT</th>\n",
       "      <td>0.002402</td>\n",
       "      <td>-0.146944</td>\n",
       "      <td>-0.334566</td>\n",
       "      <td>-0.406734</td>\n",
       "      <td>-0.500678</td>\n",
       "      <td>0.107965</td>\n",
       "      <td>-1.224029</td>\n",
       "      <td>-0.241390</td>\n",
       "      <td>0.207367</td>\n",
       "      <td>-0.312079</td>\n",
       "      <td>...</td>\n",
       "      <td>-0.088926</td>\n",
       "      <td>-0.047279</td>\n",
       "      <td>-0.180655</td>\n",
       "      <td>0.611447</td>\n",
       "      <td>1.753172</td>\n",
       "      <td>0.003910</td>\n",
       "      <td>-0.356796</td>\n",
       "      <td>-0.020981</td>\n",
       "      <td>-0.399086</td>\n",
       "      <td>0.008706</td>\n",
       "    </tr>\n",
       "    <tr>\n",
       "      <th>A4GNT</th>\n",
       "      <td>0.002245</td>\n",
       "      <td>-0.113014</td>\n",
       "      <td>-0.541670</td>\n",
       "      <td>-0.144658</td>\n",
       "      <td>-0.221380</td>\n",
       "      <td>0.594788</td>\n",
       "      <td>-2.391317</td>\n",
       "      <td>-0.699465</td>\n",
       "      <td>1.161750</td>\n",
       "      <td>0.860161</td>\n",
       "      <td>...</td>\n",
       "      <td>0.627779</td>\n",
       "      <td>-0.590147</td>\n",
       "      <td>-0.106350</td>\n",
       "      <td>2.749847</td>\n",
       "      <td>-0.553453</td>\n",
       "      <td>0.020364</td>\n",
       "      <td>-0.079092</td>\n",
       "      <td>-0.391635</td>\n",
       "      <td>0.958123</td>\n",
       "      <td>1.354622</td>\n",
       "    </tr>\n",
       "  </tbody>\n",
       "</table>\n",
       "<p>5 rows × 3096 columns</p>\n",
       "</div>"
      ],
      "text/plain": [
       "              p1        p2        p3        p4        p5        p6        p7   \n",
       "A1CF    0.034754 -1.035830 -0.644251 -0.301869 -0.508497 -0.100324 -0.402016  \\\n",
       "A2M     0.288997 -0.018051 -8.514246  0.015577 -0.638949  3.576826 -0.000895   \n",
       "A2ML1  -0.442144 -0.519741 -1.903725 -0.741799 -0.938857 -0.478538 -0.580323   \n",
       "A4GALT  0.002402 -0.146944 -0.334566 -0.406734 -0.500678  0.107965 -1.224029   \n",
       "A4GNT   0.002245 -0.113014 -0.541670 -0.144658 -0.221380  0.594788 -2.391317   \n",
       "\n",
       "              p8        p9       p10  ...     p3087     p3088     p3089   \n",
       "A1CF   -0.082245  0.313805 -0.232225  ... -0.094521  0.146812 -0.143388  \\\n",
       "A2M    -0.032116  0.370526  0.135253  ...  0.044040  0.079441 -0.000599   \n",
       "A2ML1  -0.709895  1.557578  2.350527  ... -0.276216 -0.097540 -0.510364   \n",
       "A4GALT -0.241390  0.207367 -0.312079  ... -0.088926 -0.047279 -0.180655   \n",
       "A4GNT  -0.699465  1.161750  0.860161  ...  0.627779 -0.590147 -0.106350   \n",
       "\n",
       "           p3090     p3091     p3092     p3093     p3094     p3095     p3096  \n",
       "A1CF    0.215818 -0.082560 -0.037184 -0.820075 -0.042315  0.103525 -0.025957  \n",
       "A2M     0.568577  0.746766  0.193966 -0.031147  0.152870 -0.041297  0.213473  \n",
       "A2ML1   2.203258  0.316485  0.527467 -0.668684  0.305148 -0.710331  0.631003  \n",
       "A4GALT  0.611447  1.753172  0.003910 -0.356796 -0.020981 -0.399086  0.008706  \n",
       "A4GNT   2.749847 -0.553453  0.020364 -0.079092 -0.391635  0.958123  1.354622  \n",
       "\n",
       "[5 rows x 3096 columns]"
      ]
     },
     "execution_count": 12,
     "metadata": {},
     "output_type": "execute_result"
    }
   ],
   "source": [
    "# Initialize the KNN imputer\n",
    "imputer = KNNImputer(n_neighbors=10)\n",
    "\n",
    "# Perform the imputation\n",
    "imputed1_KNN10 = imputer.fit_transform(cutoff1)\n",
    "\n",
    "# Convert the imputed data back into a DataFrame and preserve the original index and column names\n",
    "imputed1_KNN10 = pd.DataFrame(imputed1_KNN10, columns=cutoff1.columns, index=cutoff1.index)\n",
    "\n",
    "imputed1_KNN10.head()"
   ]
  },
  {
   "cell_type": "code",
   "execution_count": 13,
   "metadata": {},
   "outputs": [
    {
     "data": {
      "text/plain": [
       "0.06463322553646865"
      ]
     },
     "execution_count": 13,
     "metadata": {},
     "output_type": "execute_result"
    }
   ],
   "source": [
    "nrmse(complete, imputed1_KNN10) "
   ]
  },
  {
   "cell_type": "code",
   "execution_count": 14,
   "metadata": {},
   "outputs": [
    {
     "data": {
      "text/html": [
       "<div>\n",
       "<style scoped>\n",
       "    .dataframe tbody tr th:only-of-type {\n",
       "        vertical-align: middle;\n",
       "    }\n",
       "\n",
       "    .dataframe tbody tr th {\n",
       "        vertical-align: top;\n",
       "    }\n",
       "\n",
       "    .dataframe thead th {\n",
       "        text-align: right;\n",
       "    }\n",
       "</style>\n",
       "<table border=\"1\" class=\"dataframe\">\n",
       "  <thead>\n",
       "    <tr style=\"text-align: right;\">\n",
       "      <th></th>\n",
       "      <th>p1</th>\n",
       "      <th>p2</th>\n",
       "      <th>p3</th>\n",
       "      <th>p4</th>\n",
       "      <th>p5</th>\n",
       "      <th>p6</th>\n",
       "      <th>p7</th>\n",
       "      <th>p8</th>\n",
       "      <th>p9</th>\n",
       "      <th>p10</th>\n",
       "      <th>...</th>\n",
       "      <th>p3087</th>\n",
       "      <th>p3088</th>\n",
       "      <th>p3089</th>\n",
       "      <th>p3090</th>\n",
       "      <th>p3091</th>\n",
       "      <th>p3092</th>\n",
       "      <th>p3093</th>\n",
       "      <th>p3094</th>\n",
       "      <th>p3095</th>\n",
       "      <th>p3096</th>\n",
       "    </tr>\n",
       "  </thead>\n",
       "  <tbody>\n",
       "    <tr>\n",
       "      <th>A1CF</th>\n",
       "      <td>0.034754</td>\n",
       "      <td>-1.035830</td>\n",
       "      <td>-0.644251</td>\n",
       "      <td>-0.301869</td>\n",
       "      <td>-0.508497</td>\n",
       "      <td>-0.100324</td>\n",
       "      <td>-0.402016</td>\n",
       "      <td>-0.082245</td>\n",
       "      <td>0.313805</td>\n",
       "      <td>-0.232225</td>\n",
       "      <td>...</td>\n",
       "      <td>-0.094521</td>\n",
       "      <td>0.146812</td>\n",
       "      <td>-0.143388</td>\n",
       "      <td>0.215818</td>\n",
       "      <td>-0.082560</td>\n",
       "      <td>-0.037184</td>\n",
       "      <td>-0.820075</td>\n",
       "      <td>-0.042315</td>\n",
       "      <td>0.103525</td>\n",
       "      <td>-0.025957</td>\n",
       "    </tr>\n",
       "    <tr>\n",
       "      <th>A2M</th>\n",
       "      <td>0.288997</td>\n",
       "      <td>-0.018051</td>\n",
       "      <td>-8.514246</td>\n",
       "      <td>0.015577</td>\n",
       "      <td>-0.638949</td>\n",
       "      <td>3.576826</td>\n",
       "      <td>-0.000895</td>\n",
       "      <td>-0.032116</td>\n",
       "      <td>0.370526</td>\n",
       "      <td>0.135253</td>\n",
       "      <td>...</td>\n",
       "      <td>0.044040</td>\n",
       "      <td>0.079441</td>\n",
       "      <td>-0.000599</td>\n",
       "      <td>0.568577</td>\n",
       "      <td>0.746766</td>\n",
       "      <td>0.193966</td>\n",
       "      <td>-0.031147</td>\n",
       "      <td>0.152870</td>\n",
       "      <td>-0.041297</td>\n",
       "      <td>0.213473</td>\n",
       "    </tr>\n",
       "    <tr>\n",
       "      <th>A2ML1</th>\n",
       "      <td>-0.442144</td>\n",
       "      <td>-0.519741</td>\n",
       "      <td>-1.903725</td>\n",
       "      <td>-0.741799</td>\n",
       "      <td>-0.938857</td>\n",
       "      <td>-0.478538</td>\n",
       "      <td>-0.580323</td>\n",
       "      <td>-0.709895</td>\n",
       "      <td>1.557578</td>\n",
       "      <td>2.350527</td>\n",
       "      <td>...</td>\n",
       "      <td>-0.276216</td>\n",
       "      <td>-0.097540</td>\n",
       "      <td>-0.510364</td>\n",
       "      <td>2.203258</td>\n",
       "      <td>0.316485</td>\n",
       "      <td>0.527467</td>\n",
       "      <td>-0.668684</td>\n",
       "      <td>0.305148</td>\n",
       "      <td>-0.710331</td>\n",
       "      <td>0.631003</td>\n",
       "    </tr>\n",
       "    <tr>\n",
       "      <th>A4GALT</th>\n",
       "      <td>0.002402</td>\n",
       "      <td>-0.146944</td>\n",
       "      <td>-0.334566</td>\n",
       "      <td>-0.406734</td>\n",
       "      <td>-0.500678</td>\n",
       "      <td>0.107965</td>\n",
       "      <td>-1.224029</td>\n",
       "      <td>-0.241390</td>\n",
       "      <td>0.207367</td>\n",
       "      <td>-0.312079</td>\n",
       "      <td>...</td>\n",
       "      <td>-0.088926</td>\n",
       "      <td>-0.047279</td>\n",
       "      <td>-0.180655</td>\n",
       "      <td>0.611447</td>\n",
       "      <td>1.753172</td>\n",
       "      <td>0.003910</td>\n",
       "      <td>-0.356796</td>\n",
       "      <td>-0.020981</td>\n",
       "      <td>-0.399086</td>\n",
       "      <td>0.008706</td>\n",
       "    </tr>\n",
       "    <tr>\n",
       "      <th>A4GNT</th>\n",
       "      <td>0.002245</td>\n",
       "      <td>-0.113014</td>\n",
       "      <td>-0.541670</td>\n",
       "      <td>-0.144658</td>\n",
       "      <td>-0.221380</td>\n",
       "      <td>0.594788</td>\n",
       "      <td>-2.391317</td>\n",
       "      <td>-0.699465</td>\n",
       "      <td>1.161750</td>\n",
       "      <td>0.860161</td>\n",
       "      <td>...</td>\n",
       "      <td>0.627779</td>\n",
       "      <td>-0.590147</td>\n",
       "      <td>-0.106350</td>\n",
       "      <td>2.749847</td>\n",
       "      <td>-0.553453</td>\n",
       "      <td>0.020364</td>\n",
       "      <td>-0.079092</td>\n",
       "      <td>-0.391635</td>\n",
       "      <td>0.958123</td>\n",
       "      <td>1.354622</td>\n",
       "    </tr>\n",
       "  </tbody>\n",
       "</table>\n",
       "<p>5 rows × 3096 columns</p>\n",
       "</div>"
      ],
      "text/plain": [
       "              p1        p2        p3        p4        p5        p6        p7   \n",
       "A1CF    0.034754 -1.035830 -0.644251 -0.301869 -0.508497 -0.100324 -0.402016  \\\n",
       "A2M     0.288997 -0.018051 -8.514246  0.015577 -0.638949  3.576826 -0.000895   \n",
       "A2ML1  -0.442144 -0.519741 -1.903725 -0.741799 -0.938857 -0.478538 -0.580323   \n",
       "A4GALT  0.002402 -0.146944 -0.334566 -0.406734 -0.500678  0.107965 -1.224029   \n",
       "A4GNT   0.002245 -0.113014 -0.541670 -0.144658 -0.221380  0.594788 -2.391317   \n",
       "\n",
       "              p8        p9       p10  ...     p3087     p3088     p3089   \n",
       "A1CF   -0.082245  0.313805 -0.232225  ... -0.094521  0.146812 -0.143388  \\\n",
       "A2M    -0.032116  0.370526  0.135253  ...  0.044040  0.079441 -0.000599   \n",
       "A2ML1  -0.709895  1.557578  2.350527  ... -0.276216 -0.097540 -0.510364   \n",
       "A4GALT -0.241390  0.207367 -0.312079  ... -0.088926 -0.047279 -0.180655   \n",
       "A4GNT  -0.699465  1.161750  0.860161  ...  0.627779 -0.590147 -0.106350   \n",
       "\n",
       "           p3090     p3091     p3092     p3093     p3094     p3095     p3096  \n",
       "A1CF    0.215818 -0.082560 -0.037184 -0.820075 -0.042315  0.103525 -0.025957  \n",
       "A2M     0.568577  0.746766  0.193966 -0.031147  0.152870 -0.041297  0.213473  \n",
       "A2ML1   2.203258  0.316485  0.527467 -0.668684  0.305148 -0.710331  0.631003  \n",
       "A4GALT  0.611447  1.753172  0.003910 -0.356796 -0.020981 -0.399086  0.008706  \n",
       "A4GNT   2.749847 -0.553453  0.020364 -0.079092 -0.391635  0.958123  1.354622  \n",
       "\n",
       "[5 rows x 3096 columns]"
      ]
     },
     "execution_count": 14,
     "metadata": {},
     "output_type": "execute_result"
    }
   ],
   "source": [
    "# Initialize the KNN imputer\n",
    "imputer = KNNImputer(n_neighbors=20)\n",
    "\n",
    "# Perform the imputation\n",
    "imputed1_KNN20 = imputer.fit_transform(cutoff1)\n",
    "\n",
    "# Convert the imputed data back into a DataFrame and preserve the original index and column names\n",
    "imputed1_KNN20 = pd.DataFrame(imputed1_KNN20, columns=cutoff1.columns, index=cutoff1.index)\n",
    "\n",
    "imputed1_KNN20.head()"
   ]
  },
  {
   "cell_type": "code",
   "execution_count": 15,
   "metadata": {},
   "outputs": [
    {
     "data": {
      "text/plain": [
       "0.06461632363049331"
      ]
     },
     "execution_count": 15,
     "metadata": {},
     "output_type": "execute_result"
    }
   ],
   "source": [
    "nrmse(complete, imputed1_KNN20)"
   ]
  },
  {
   "cell_type": "code",
   "execution_count": 18,
   "metadata": {},
   "outputs": [],
   "source": [
    "# Initialize the KNN imputer\n",
    "imputer = KNNImputer(n_neighbors=30)\n",
    "\n",
    "# Perform the imputation\n",
    "imputed1_KNN30 = imputer.fit_transform(cutoff1)\n",
    "\n",
    "# Convert the imputed data back into a DataFrame and preserve the original index and column names\n",
    "imputed1_KNN30 = pd.DataFrame(imputed1_KNN30, columns=cutoff1.columns, index=cutoff1.index)"
   ]
  },
  {
   "cell_type": "code",
   "execution_count": 19,
   "metadata": {},
   "outputs": [
    {
     "data": {
      "text/plain": [
       "0.06471181828942471"
      ]
     },
     "execution_count": 19,
     "metadata": {},
     "output_type": "execute_result"
    }
   ],
   "source": [
    "nrmse(complete, imputed1_KNN30)"
   ]
  },
  {
   "cell_type": "code",
   "execution_count": null,
   "metadata": {},
   "outputs": [],
   "source": []
  },
  {
   "cell_type": "code",
   "execution_count": 15,
   "metadata": {},
   "outputs": [],
   "source": [
    "#imputed1_KNN20.to_csv(\"Imputed Datasets/KNN_imputed0.1.csv\")"
   ]
  },
  {
   "cell_type": "markdown",
   "metadata": {},
   "source": [
    "#### ~~1.2 MICE~~"
   ]
  },
  {
   "cell_type": "code",
   "execution_count": 41,
   "metadata": {},
   "outputs": [],
   "source": [
    "# from sklearn.experimental import enable_iterative_imputer\n",
    "# from sklearn.impute import IterativeImputer"
   ]
  },
  {
   "cell_type": "code",
   "execution_count": null,
   "metadata": {},
   "outputs": [],
   "source": [
    "# # Initialize the MICE imputer\n",
    "# mice_imputer = IterativeImputer(random_state = 0, max_iter = 5)\n",
    "\n",
    "# # Perform the imputation\n",
    "# imputed1_mice = mice_imputer.fit_transform(cutoff1)\n",
    "\n",
    "# # Convert the imputed data back into a DataFrame and preserve the original index and column names\n",
    "# imputed1_mice = pd.DataFrame(imputed1_mice, columns=cutoff1.columns, index=cutoff1.index)\n"
   ]
  },
  {
   "cell_type": "code",
   "execution_count": null,
   "metadata": {},
   "outputs": [],
   "source": [
    "# nrmse(complete, imputed1_mice)"
   ]
  },
  {
   "cell_type": "markdown",
   "metadata": {},
   "source": [
    "#### ~~1.3 Autoencoder~~"
   ]
  },
  {
   "cell_type": "code",
   "execution_count": 15,
   "metadata": {},
   "outputs": [],
   "source": [
    "# import torch\n",
    "# from torch import nn\n",
    "# from torch.optim import Adam\n",
    "# from torch.utils.data import DataLoader, TensorDataset"
   ]
  },
  {
   "cell_type": "code",
   "execution_count": 20,
   "metadata": {},
   "outputs": [
    {
     "data": {
      "text/plain": [
       "device(type='mps')"
      ]
     },
     "execution_count": 20,
     "metadata": {},
     "output_type": "execute_result"
    }
   ],
   "source": [
    "# device = torch.device('mps' if torch.backends.mps.is_available() else 'cpu')\n",
    "# device"
   ]
  },
  {
   "cell_type": "code",
   "execution_count": 21,
   "metadata": {},
   "outputs": [],
   "source": [
    "# # Define the architecture of the Autoencoder\n",
    "# class Autoencoder(nn.Module):\n",
    "#     def __init__(self, num_features):\n",
    "#         super(Autoencoder, self).__init__()\n",
    "#         self.encoder = nn.Sequential(\n",
    "#             nn.Linear(num_features, 128),\n",
    "#             nn.ReLU(),\n",
    "#             nn.Linear(128, 64),\n",
    "#             nn.ReLU(),\n",
    "#             nn.Linear(64, 32),\n",
    "#         )\n",
    "#         self.decoder = nn.Sequential(\n",
    "#             nn.Linear(32, 64),\n",
    "#             nn.ReLU(),\n",
    "#             nn.Linear(64, 128),\n",
    "#             nn.ReLU(),\n",
    "#             nn.Linear(128, num_features),\n",
    "#         )\n",
    "\n",
    "#     def forward(self, x):\n",
    "#         x = self.encoder(x)\n",
    "#         x = self.decoder(x)\n",
    "#         return x\n",
    "\n",
    "# data = cutoff1.values\n",
    "# dataset = TensorDataset(torch.from_numpy(data).float().to(device))\n",
    "# dataloader = DataLoader(dataset, batch_size=32, shuffle=True)\n",
    "\n",
    "# # Initialize the Autoencoder and the optimizer\n",
    "# model = Autoencoder(num_features=data.shape[1]).to(device)\n",
    "# optimizer = Adam(model.parameters(), lr=1e-3)\n",
    "\n",
    "# # Training loop\n",
    "# num_epochs = 100\n",
    "# for epoch in range(num_epochs):\n",
    "#     for batch in dataloader:\n",
    "#         batch = batch[0]\n",
    "#         optimizer.zero_grad()\n",
    "#         outputs = model(batch.float())\n",
    "#         loss = nn.MSELoss()(outputs, batch.float())\n",
    "#         loss.backward()\n",
    "#         optimizer.step()\n",
    "#     print(f'Epoch {epoch+1}/{num_epochs}, Loss: {loss.item()}')\n",
    "\n",
    "# # Impute the missing values\n",
    "# data_imputed = model(torch.from_numpy(data).float().to(device)).data.numpy()"
   ]
  },
  {
   "cell_type": "markdown",
   "metadata": {},
   "source": [
    "#### 1.2 Mean Imputation"
   ]
  },
  {
   "cell_type": "code",
   "execution_count": 10,
   "metadata": {},
   "outputs": [],
   "source": [
    "from sklearn.impute import SimpleImputer"
   ]
  },
  {
   "cell_type": "code",
   "execution_count": 11,
   "metadata": {},
   "outputs": [],
   "source": [
    "# Mean imputation\n",
    "mean_imputer = SimpleImputer(missing_values=np.nan, strategy='mean')\n",
    "imputed1_Mean = pd.DataFrame(mean_imputer.fit_transform(cutoff1), columns=cutoff1.columns)"
   ]
  },
  {
   "cell_type": "code",
   "execution_count": 12,
   "metadata": {},
   "outputs": [
    {
     "data": {
      "text/plain": [
       "0.06868500684992951"
      ]
     },
     "execution_count": 12,
     "metadata": {},
     "output_type": "execute_result"
    }
   ],
   "source": [
    "nrmse(complete, imputed1_Mean)"
   ]
  },
  {
   "cell_type": "markdown",
   "metadata": {},
   "source": [
    "#### 1.2.2 Median Imputation"
   ]
  },
  {
   "cell_type": "code",
   "execution_count": 13,
   "metadata": {},
   "outputs": [],
   "source": [
    "# Median imputation\n",
    "median_imputer = SimpleImputer(missing_values=np.nan, strategy='median')\n",
    "imputed1_Median = pd.DataFrame(median_imputer.fit_transform(cutoff1), columns=cutoff1.columns)"
   ]
  },
  {
   "cell_type": "code",
   "execution_count": 14,
   "metadata": {},
   "outputs": [
    {
     "data": {
      "text/plain": [
       "0.06908279349635449"
      ]
     },
     "execution_count": 14,
     "metadata": {},
     "output_type": "execute_result"
    }
   ],
   "source": [
    "nrmse(complete, imputed1_Median)"
   ]
  },
  {
   "cell_type": "markdown",
   "metadata": {},
   "source": [
    "#### 1.3 Mode Imputation"
   ]
  },
  {
   "cell_type": "code",
   "execution_count": 15,
   "metadata": {},
   "outputs": [
    {
     "name": "stderr",
     "output_type": "stream",
     "text": [
      "/opt/anaconda3/lib/python3.9/site-packages/sklearn/impute/_base.py:49: FutureWarning: Unlike other reduction functions (e.g. `skew`, `kurtosis`), the default behavior of `mode` typically preserves the axis it acts along. In SciPy 1.11.0, this behavior will change: the default value of `keepdims` will become False, the `axis` over which the statistic is taken will be eliminated, and the value None will no longer be accepted. Set `keepdims` to True or False to avoid this warning.\n",
      "  mode = stats.mode(array)\n"
     ]
    }
   ],
   "source": [
    "# Mode imputation\n",
    "mode_imputer = SimpleImputer(missing_values=np.nan, strategy='most_frequent')\n",
    "imputed1_Mode = pd.DataFrame(mode_imputer.fit_transform(cutoff1), columns=cutoff1.columns)"
   ]
  },
  {
   "cell_type": "code",
   "execution_count": 16,
   "metadata": {},
   "outputs": [
    {
     "data": {
      "text/plain": [
       "0.10841743912426982"
      ]
     },
     "execution_count": 16,
     "metadata": {},
     "output_type": "execute_result"
    }
   ],
   "source": [
    "nrmse(complete, imputed1_Mode)"
   ]
  },
  {
   "cell_type": "markdown",
   "metadata": {},
   "source": [
    "#### ~~1.4 Random Forest Imputation~~"
   ]
  },
  {
   "cell_type": "code",
   "execution_count": 21,
   "metadata": {},
   "outputs": [],
   "source": [
    "# from sklearn.experimental import enable_iterative_imputer\n",
    "# from sklearn.impute import IterativeImputer\n",
    "# from sklearn.ensemble import RandomForestRegressor"
   ]
  },
  {
   "cell_type": "code",
   "execution_count": 22,
   "metadata": {},
   "outputs": [],
   "source": [
    "# # Create an IterativeImputer instance with a Random Forest estimator\n",
    "# rf_imputer = IterativeImputer(estimator=RandomForestRegressor(n_estimators=10, random_state=0))\n",
    "\n",
    "# # Perform the imputation\n",
    "# imputed1_rf = pd.DataFrame(rf_imputer.fit_transform(cutoff1), columns=cutoff1.columns)"
   ]
  },
  {
   "cell_type": "code",
   "execution_count": null,
   "metadata": {},
   "outputs": [],
   "source": []
  },
  {
   "cell_type": "code",
   "execution_count": null,
   "metadata": {},
   "outputs": [],
   "source": []
  },
  {
   "cell_type": "code",
   "execution_count": null,
   "metadata": {},
   "outputs": [],
   "source": []
  },
  {
   "cell_type": "markdown",
   "metadata": {},
   "source": [
    "### 2. Cutoff 20%"
   ]
  },
  {
   "cell_type": "code",
   "execution_count": 23,
   "metadata": {},
   "outputs": [
    {
     "data": {
      "text/html": [
       "<div>\n",
       "<style scoped>\n",
       "    .dataframe tbody tr th:only-of-type {\n",
       "        vertical-align: middle;\n",
       "    }\n",
       "\n",
       "    .dataframe tbody tr th {\n",
       "        vertical-align: top;\n",
       "    }\n",
       "\n",
       "    .dataframe thead th {\n",
       "        text-align: right;\n",
       "    }\n",
       "</style>\n",
       "<table border=\"1\" class=\"dataframe\">\n",
       "  <thead>\n",
       "    <tr style=\"text-align: right;\">\n",
       "      <th></th>\n",
       "      <th>A1CF</th>\n",
       "      <th>A2M</th>\n",
       "      <th>A2ML1</th>\n",
       "      <th>A4GALT</th>\n",
       "      <th>A4GNT</th>\n",
       "      <th>AAAS</th>\n",
       "      <th>AACS</th>\n",
       "      <th>AADAC</th>\n",
       "      <th>AADACL2</th>\n",
       "      <th>AADAT</th>\n",
       "      <th>...</th>\n",
       "      <th>ZW10</th>\n",
       "      <th>ZWILCH</th>\n",
       "      <th>ZWINT</th>\n",
       "      <th>ZXDA</th>\n",
       "      <th>ZXDC</th>\n",
       "      <th>ZYG11A</th>\n",
       "      <th>ZYG11B</th>\n",
       "      <th>ZYX</th>\n",
       "      <th>ZZEF1</th>\n",
       "      <th>ZZZ3</th>\n",
       "    </tr>\n",
       "  </thead>\n",
       "  <tbody>\n",
       "    <tr>\n",
       "      <th>1</th>\n",
       "      <td>0.034754</td>\n",
       "      <td>0.288997</td>\n",
       "      <td>-0.442144</td>\n",
       "      <td>0.002402</td>\n",
       "      <td>0.002245</td>\n",
       "      <td>0.054584</td>\n",
       "      <td>2.196306</td>\n",
       "      <td>-0.185888</td>\n",
       "      <td>NaN</td>\n",
       "      <td>-0.359589</td>\n",
       "      <td>...</td>\n",
       "      <td>-0.518579</td>\n",
       "      <td>-0.421801</td>\n",
       "      <td>0.545304</td>\n",
       "      <td>-0.186289</td>\n",
       "      <td>0.233972</td>\n",
       "      <td>-0.442144</td>\n",
       "      <td>-0.792979</td>\n",
       "      <td>0.731285</td>\n",
       "      <td>-0.883755</td>\n",
       "      <td>-1.304003</td>\n",
       "    </tr>\n",
       "    <tr>\n",
       "      <th>2</th>\n",
       "      <td>-1.035830</td>\n",
       "      <td>-0.018051</td>\n",
       "      <td>-0.519741</td>\n",
       "      <td>-0.146944</td>\n",
       "      <td>-0.113014</td>\n",
       "      <td>0.531820</td>\n",
       "      <td>-0.100589</td>\n",
       "      <td>-0.477632</td>\n",
       "      <td>NaN</td>\n",
       "      <td>-0.267183</td>\n",
       "      <td>...</td>\n",
       "      <td>-0.646888</td>\n",
       "      <td>-0.603879</td>\n",
       "      <td>-0.124688</td>\n",
       "      <td>-0.260088</td>\n",
       "      <td>0.732149</td>\n",
       "      <td>0.072879</td>\n",
       "      <td>-0.276907</td>\n",
       "      <td>0.851401</td>\n",
       "      <td>0.979394</td>\n",
       "      <td>0.469300</td>\n",
       "    </tr>\n",
       "    <tr>\n",
       "      <th>3</th>\n",
       "      <td>-0.644251</td>\n",
       "      <td>-8.514246</td>\n",
       "      <td>-1.903725</td>\n",
       "      <td>-0.334566</td>\n",
       "      <td>-0.541670</td>\n",
       "      <td>2.612846</td>\n",
       "      <td>-0.701680</td>\n",
       "      <td>-0.519429</td>\n",
       "      <td>NaN</td>\n",
       "      <td>-1.006750</td>\n",
       "      <td>...</td>\n",
       "      <td>0.925514</td>\n",
       "      <td>-0.012108</td>\n",
       "      <td>-0.179786</td>\n",
       "      <td>-0.669706</td>\n",
       "      <td>0.835785</td>\n",
       "      <td>-0.741799</td>\n",
       "      <td>-0.581158</td>\n",
       "      <td>0.043900</td>\n",
       "      <td>0.529887</td>\n",
       "      <td>1.079319</td>\n",
       "    </tr>\n",
       "    <tr>\n",
       "      <th>4</th>\n",
       "      <td>-0.301869</td>\n",
       "      <td>0.015577</td>\n",
       "      <td>-0.741799</td>\n",
       "      <td>-0.406734</td>\n",
       "      <td>-0.144658</td>\n",
       "      <td>-0.527001</td>\n",
       "      <td>0.031789</td>\n",
       "      <td>-0.419919</td>\n",
       "      <td>NaN</td>\n",
       "      <td>0.236881</td>\n",
       "      <td>...</td>\n",
       "      <td>0.842103</td>\n",
       "      <td>2.328884</td>\n",
       "      <td>-0.215270</td>\n",
       "      <td>-0.071082</td>\n",
       "      <td>-1.103875</td>\n",
       "      <td>-0.600354</td>\n",
       "      <td>0.751604</td>\n",
       "      <td>-1.625300</td>\n",
       "      <td>-3.415121</td>\n",
       "      <td>1.278989</td>\n",
       "    </tr>\n",
       "    <tr>\n",
       "      <th>5</th>\n",
       "      <td>-0.508497</td>\n",
       "      <td>-0.638949</td>\n",
       "      <td>-0.938857</td>\n",
       "      <td>-0.500678</td>\n",
       "      <td>-0.221380</td>\n",
       "      <td>-0.028908</td>\n",
       "      <td>-0.542586</td>\n",
       "      <td>-0.369666</td>\n",
       "      <td>NaN</td>\n",
       "      <td>-0.515418</td>\n",
       "      <td>...</td>\n",
       "      <td>1.316377</td>\n",
       "      <td>0.664992</td>\n",
       "      <td>-0.922036</td>\n",
       "      <td>-0.370657</td>\n",
       "      <td>0.115881</td>\n",
       "      <td>-0.797875</td>\n",
       "      <td>0.985905</td>\n",
       "      <td>-1.408760</td>\n",
       "      <td>-0.403130</td>\n",
       "      <td>0.870526</td>\n",
       "    </tr>\n",
       "  </tbody>\n",
       "</table>\n",
       "<p>5 rows × 14003 columns</p>\n",
       "</div>"
      ],
      "text/plain": [
       "       A1CF       A2M     A2ML1    A4GALT     A4GNT      AAAS      AACS   \n",
       "1  0.034754  0.288997 -0.442144  0.002402  0.002245  0.054584  2.196306  \\\n",
       "2 -1.035830 -0.018051 -0.519741 -0.146944 -0.113014  0.531820 -0.100589   \n",
       "3 -0.644251 -8.514246 -1.903725 -0.334566 -0.541670  2.612846 -0.701680   \n",
       "4 -0.301869  0.015577 -0.741799 -0.406734 -0.144658 -0.527001  0.031789   \n",
       "5 -0.508497 -0.638949 -0.938857 -0.500678 -0.221380 -0.028908 -0.542586   \n",
       "\n",
       "      AADAC  AADACL2     AADAT  ...      ZW10    ZWILCH     ZWINT      ZXDA   \n",
       "1 -0.185888      NaN -0.359589  ... -0.518579 -0.421801  0.545304 -0.186289  \\\n",
       "2 -0.477632      NaN -0.267183  ... -0.646888 -0.603879 -0.124688 -0.260088   \n",
       "3 -0.519429      NaN -1.006750  ...  0.925514 -0.012108 -0.179786 -0.669706   \n",
       "4 -0.419919      NaN  0.236881  ...  0.842103  2.328884 -0.215270 -0.071082   \n",
       "5 -0.369666      NaN -0.515418  ...  1.316377  0.664992 -0.922036 -0.370657   \n",
       "\n",
       "       ZXDC    ZYG11A    ZYG11B       ZYX     ZZEF1      ZZZ3  \n",
       "1  0.233972 -0.442144 -0.792979  0.731285 -0.883755 -1.304003  \n",
       "2  0.732149  0.072879 -0.276907  0.851401  0.979394  0.469300  \n",
       "3  0.835785 -0.741799 -0.581158  0.043900  0.529887  1.079319  \n",
       "4 -1.103875 -0.600354  0.751604 -1.625300 -3.415121  1.278989  \n",
       "5  0.115881 -0.797875  0.985905 -1.408760 -0.403130  0.870526  \n",
       "\n",
       "[5 rows x 14003 columns]"
      ]
     },
     "execution_count": 23,
     "metadata": {},
     "output_type": "execute_result"
    }
   ],
   "source": [
    "cutoff2 = pd.read_csv(\"Incomplete Datasets/cutoff0.2.csv\", index_col=0)\n",
    "cutoff2.head()"
   ]
  },
  {
   "cell_type": "code",
   "execution_count": 24,
   "metadata": {},
   "outputs": [
    {
     "data": {
      "text/plain": [
       "0.007198462086658802"
      ]
     },
     "execution_count": 24,
     "metadata": {},
     "output_type": "execute_result"
    }
   ],
   "source": [
    "cutoff2 = cutoff2.transpose()\n",
    "\n",
    "# reset colnames\n",
    "cutoff2.columns = ['p' + str(i) for i in range(1,len(cutoff2.columns)+1)]\n",
    "cutoff2.head()\n",
    "\n",
    "# convert string 'NA' to np.nan\n",
    "cutoff2 = cutoff2.replace(\"NA\", np.nan)\n",
    "\n",
    "# check for missing percent\n",
    "cutoff2.isna().sum().sum() / (cutoff2.shape[0] * cutoff2.shape[1])"
   ]
  },
  {
   "cell_type": "markdown",
   "metadata": {},
   "source": [
    "#### 2.1 KNN"
   ]
  },
  {
   "cell_type": "code",
   "execution_count": 25,
   "metadata": {},
   "outputs": [],
   "source": [
    "# Initialize the KNN imputer\n",
    "imputer = KNNImputer(n_neighbors=20)\n",
    "\n",
    "# Perform the imputation\n",
    "imputed2_KNN20 = imputer.fit_transform(cutoff2)\n",
    "\n",
    "# Convert the imputed data back into a DataFrame and preserve the original index and column names\n",
    "imputed2_KNN20 = pd.DataFrame(imputed2_KNN20, columns=cutoff2.columns, index=cutoff2.index)"
   ]
  },
  {
   "cell_type": "code",
   "execution_count": 26,
   "metadata": {},
   "outputs": [
    {
     "data": {
      "text/plain": [
       "0.07906864847903837"
      ]
     },
     "execution_count": 26,
     "metadata": {},
     "output_type": "execute_result"
    }
   ],
   "source": [
    "nrmse(complete, imputed2_KNN20)"
   ]
  },
  {
   "cell_type": "code",
   "execution_count": 27,
   "metadata": {},
   "outputs": [],
   "source": [
    "#imputed2_KNN5.to_csv(\"imputed0.2.csv\")"
   ]
  },
  {
   "cell_type": "markdown",
   "metadata": {},
   "source": [
    "#### 2.2 Mean Imputation"
   ]
  },
  {
   "cell_type": "code",
   "execution_count": 28,
   "metadata": {},
   "outputs": [],
   "source": [
    "# Mean imputation\n",
    "mean_imputer = SimpleImputer(missing_values=np.nan, strategy='mean')\n",
    "imputed2_Mean = pd.DataFrame(mean_imputer.fit_transform(cutoff2), columns=cutoff2.columns)"
   ]
  },
  {
   "cell_type": "code",
   "execution_count": 29,
   "metadata": {},
   "outputs": [
    {
     "data": {
      "text/plain": [
       "0.08337840912172252"
      ]
     },
     "execution_count": 29,
     "metadata": {},
     "output_type": "execute_result"
    }
   ],
   "source": [
    "nrmse(complete, imputed2_Mean)"
   ]
  },
  {
   "cell_type": "markdown",
   "metadata": {},
   "source": [
    "#### 2.3 Median Imputation"
   ]
  },
  {
   "cell_type": "code",
   "execution_count": 30,
   "metadata": {},
   "outputs": [],
   "source": [
    "# Median imputation\n",
    "median_imputer = SimpleImputer(missing_values=np.nan, strategy='median')\n",
    "imputed2_Median = pd.DataFrame(median_imputer.fit_transform(cutoff2), columns=cutoff2.columns)"
   ]
  },
  {
   "cell_type": "code",
   "execution_count": 31,
   "metadata": {},
   "outputs": [
    {
     "data": {
      "text/plain": [
       "0.08383295738498484"
      ]
     },
     "execution_count": 31,
     "metadata": {},
     "output_type": "execute_result"
    }
   ],
   "source": [
    "nrmse(complete, imputed2_Median)"
   ]
  },
  {
   "cell_type": "markdown",
   "metadata": {},
   "source": [
    "#### 2.4 Mode Imputation"
   ]
  },
  {
   "cell_type": "code",
   "execution_count": 32,
   "metadata": {},
   "outputs": [
    {
     "name": "stderr",
     "output_type": "stream",
     "text": [
      "/opt/anaconda3/lib/python3.9/site-packages/sklearn/impute/_base.py:49: FutureWarning: Unlike other reduction functions (e.g. `skew`, `kurtosis`), the default behavior of `mode` typically preserves the axis it acts along. In SciPy 1.11.0, this behavior will change: the default value of `keepdims` will become False, the `axis` over which the statistic is taken will be eliminated, and the value None will no longer be accepted. Set `keepdims` to True or False to avoid this warning.\n",
      "  mode = stats.mode(array)\n"
     ]
    }
   ],
   "source": [
    "# Mode imputation\n",
    "mode_imputer = SimpleImputer(missing_values=np.nan, strategy='most_frequent')\n",
    "imputed2_Mode = pd.DataFrame(mode_imputer.fit_transform(cutoff2), columns=cutoff2.columns)"
   ]
  },
  {
   "cell_type": "code",
   "execution_count": 33,
   "metadata": {},
   "outputs": [
    {
     "data": {
      "text/plain": [
       "0.1348843927798905"
      ]
     },
     "execution_count": 33,
     "metadata": {},
     "output_type": "execute_result"
    }
   ],
   "source": [
    "nrmse(complete, imputed2_Mode)"
   ]
  },
  {
   "cell_type": "markdown",
   "metadata": {},
   "source": [
    "### 3. Cutoff 30%"
   ]
  },
  {
   "cell_type": "code",
   "execution_count": 34,
   "metadata": {},
   "outputs": [
    {
     "data": {
      "text/html": [
       "<div>\n",
       "<style scoped>\n",
       "    .dataframe tbody tr th:only-of-type {\n",
       "        vertical-align: middle;\n",
       "    }\n",
       "\n",
       "    .dataframe tbody tr th {\n",
       "        vertical-align: top;\n",
       "    }\n",
       "\n",
       "    .dataframe thead th {\n",
       "        text-align: right;\n",
       "    }\n",
       "</style>\n",
       "<table border=\"1\" class=\"dataframe\">\n",
       "  <thead>\n",
       "    <tr style=\"text-align: right;\">\n",
       "      <th></th>\n",
       "      <th>A1CF</th>\n",
       "      <th>A2M</th>\n",
       "      <th>A2ML1</th>\n",
       "      <th>A4GALT</th>\n",
       "      <th>A4GNT</th>\n",
       "      <th>AAAS</th>\n",
       "      <th>AACS</th>\n",
       "      <th>AADAC</th>\n",
       "      <th>AADACL2</th>\n",
       "      <th>AADAT</th>\n",
       "      <th>...</th>\n",
       "      <th>ZW10</th>\n",
       "      <th>ZWILCH</th>\n",
       "      <th>ZWINT</th>\n",
       "      <th>ZXDA</th>\n",
       "      <th>ZXDC</th>\n",
       "      <th>ZYG11A</th>\n",
       "      <th>ZYG11B</th>\n",
       "      <th>ZYX</th>\n",
       "      <th>ZZEF1</th>\n",
       "      <th>ZZZ3</th>\n",
       "    </tr>\n",
       "  </thead>\n",
       "  <tbody>\n",
       "    <tr>\n",
       "      <th>1</th>\n",
       "      <td>0.034754</td>\n",
       "      <td>0.288997</td>\n",
       "      <td>-0.442144</td>\n",
       "      <td>0.002402</td>\n",
       "      <td>0.002245</td>\n",
       "      <td>0.054584</td>\n",
       "      <td>2.196306</td>\n",
       "      <td>-0.185888</td>\n",
       "      <td>0.357290</td>\n",
       "      <td>-0.359589</td>\n",
       "      <td>...</td>\n",
       "      <td>-0.518579</td>\n",
       "      <td>-0.421801</td>\n",
       "      <td>0.545304</td>\n",
       "      <td>-0.186289</td>\n",
       "      <td>0.233972</td>\n",
       "      <td>-0.442144</td>\n",
       "      <td>-0.792979</td>\n",
       "      <td>0.731285</td>\n",
       "      <td>-0.883755</td>\n",
       "      <td>-1.304003</td>\n",
       "    </tr>\n",
       "    <tr>\n",
       "      <th>2</th>\n",
       "      <td>-1.035830</td>\n",
       "      <td>-0.018051</td>\n",
       "      <td>-0.519741</td>\n",
       "      <td>-0.146944</td>\n",
       "      <td>-0.113014</td>\n",
       "      <td>0.531820</td>\n",
       "      <td>-0.100589</td>\n",
       "      <td>-0.477632</td>\n",
       "      <td>0.566360</td>\n",
       "      <td>-0.267183</td>\n",
       "      <td>...</td>\n",
       "      <td>-0.646888</td>\n",
       "      <td>-0.603879</td>\n",
       "      <td>-0.124688</td>\n",
       "      <td>-0.260088</td>\n",
       "      <td>0.732149</td>\n",
       "      <td>0.072879</td>\n",
       "      <td>-0.276907</td>\n",
       "      <td>0.851401</td>\n",
       "      <td>0.979394</td>\n",
       "      <td>0.469300</td>\n",
       "    </tr>\n",
       "    <tr>\n",
       "      <th>3</th>\n",
       "      <td>-0.644251</td>\n",
       "      <td>-8.514246</td>\n",
       "      <td>-1.903725</td>\n",
       "      <td>-0.334566</td>\n",
       "      <td>-0.541670</td>\n",
       "      <td>2.612846</td>\n",
       "      <td>-0.701680</td>\n",
       "      <td>-0.519429</td>\n",
       "      <td>-0.486846</td>\n",
       "      <td>-1.006750</td>\n",
       "      <td>...</td>\n",
       "      <td>0.925514</td>\n",
       "      <td>-0.012108</td>\n",
       "      <td>-0.179786</td>\n",
       "      <td>-0.669706</td>\n",
       "      <td>0.835785</td>\n",
       "      <td>-0.741799</td>\n",
       "      <td>-0.581158</td>\n",
       "      <td>0.043900</td>\n",
       "      <td>0.529887</td>\n",
       "      <td>1.079319</td>\n",
       "    </tr>\n",
       "    <tr>\n",
       "      <th>4</th>\n",
       "      <td>-0.301869</td>\n",
       "      <td>0.015577</td>\n",
       "      <td>-0.741799</td>\n",
       "      <td>-0.406734</td>\n",
       "      <td>-0.144658</td>\n",
       "      <td>-0.527001</td>\n",
       "      <td>0.031789</td>\n",
       "      <td>-0.419919</td>\n",
       "      <td>-0.245358</td>\n",
       "      <td>0.236881</td>\n",
       "      <td>...</td>\n",
       "      <td>0.842103</td>\n",
       "      <td>2.328884</td>\n",
       "      <td>-0.215270</td>\n",
       "      <td>-0.071082</td>\n",
       "      <td>-1.103875</td>\n",
       "      <td>-0.600354</td>\n",
       "      <td>0.751604</td>\n",
       "      <td>-1.625300</td>\n",
       "      <td>-3.415121</td>\n",
       "      <td>1.278989</td>\n",
       "    </tr>\n",
       "    <tr>\n",
       "      <th>5</th>\n",
       "      <td>-0.508497</td>\n",
       "      <td>-0.638949</td>\n",
       "      <td>-0.938857</td>\n",
       "      <td>-0.500678</td>\n",
       "      <td>-0.221380</td>\n",
       "      <td>-0.028908</td>\n",
       "      <td>-0.542586</td>\n",
       "      <td>-0.369666</td>\n",
       "      <td>-1.246111</td>\n",
       "      <td>-0.515418</td>\n",
       "      <td>...</td>\n",
       "      <td>1.316377</td>\n",
       "      <td>0.664992</td>\n",
       "      <td>-0.922036</td>\n",
       "      <td>-0.370657</td>\n",
       "      <td>0.115881</td>\n",
       "      <td>-0.797875</td>\n",
       "      <td>0.985905</td>\n",
       "      <td>-1.408760</td>\n",
       "      <td>-0.403130</td>\n",
       "      <td>0.870526</td>\n",
       "    </tr>\n",
       "  </tbody>\n",
       "</table>\n",
       "<p>5 rows × 14003 columns</p>\n",
       "</div>"
      ],
      "text/plain": [
       "       A1CF       A2M     A2ML1    A4GALT     A4GNT      AAAS      AACS   \n",
       "1  0.034754  0.288997 -0.442144  0.002402  0.002245  0.054584  2.196306  \\\n",
       "2 -1.035830 -0.018051 -0.519741 -0.146944 -0.113014  0.531820 -0.100589   \n",
       "3 -0.644251 -8.514246 -1.903725 -0.334566 -0.541670  2.612846 -0.701680   \n",
       "4 -0.301869  0.015577 -0.741799 -0.406734 -0.144658 -0.527001  0.031789   \n",
       "5 -0.508497 -0.638949 -0.938857 -0.500678 -0.221380 -0.028908 -0.542586   \n",
       "\n",
       "      AADAC   AADACL2     AADAT  ...      ZW10    ZWILCH     ZWINT      ZXDA   \n",
       "1 -0.185888  0.357290 -0.359589  ... -0.518579 -0.421801  0.545304 -0.186289  \\\n",
       "2 -0.477632  0.566360 -0.267183  ... -0.646888 -0.603879 -0.124688 -0.260088   \n",
       "3 -0.519429 -0.486846 -1.006750  ...  0.925514 -0.012108 -0.179786 -0.669706   \n",
       "4 -0.419919 -0.245358  0.236881  ...  0.842103  2.328884 -0.215270 -0.071082   \n",
       "5 -0.369666 -1.246111 -0.515418  ...  1.316377  0.664992 -0.922036 -0.370657   \n",
       "\n",
       "       ZXDC    ZYG11A    ZYG11B       ZYX     ZZEF1      ZZZ3  \n",
       "1  0.233972 -0.442144 -0.792979  0.731285 -0.883755 -1.304003  \n",
       "2  0.732149  0.072879 -0.276907  0.851401  0.979394  0.469300  \n",
       "3  0.835785 -0.741799 -0.581158  0.043900  0.529887  1.079319  \n",
       "4 -1.103875 -0.600354  0.751604 -1.625300 -3.415121  1.278989  \n",
       "5  0.115881 -0.797875  0.985905 -1.408760 -0.403130  0.870526  \n",
       "\n",
       "[5 rows x 14003 columns]"
      ]
     },
     "execution_count": 34,
     "metadata": {},
     "output_type": "execute_result"
    }
   ],
   "source": [
    "cutoff3 = pd.read_csv(\"Incomplete Datasets/cutoff0.3.csv\", index_col=0)\n",
    "cutoff3.head()"
   ]
  },
  {
   "cell_type": "code",
   "execution_count": 35,
   "metadata": {},
   "outputs": [
    {
     "data": {
      "text/plain": [
       "0.008357266927481947"
      ]
     },
     "execution_count": 35,
     "metadata": {},
     "output_type": "execute_result"
    }
   ],
   "source": [
    "cutoff3 = cutoff3.transpose()\n",
    "\n",
    "# reset colnames\n",
    "cutoff3.columns = ['p' + str(i) for i in range(1,len(cutoff3.columns)+1)]\n",
    "cutoff3.head()\n",
    "\n",
    "# convert string 'NA' to np.nan\n",
    "cutoff3 = cutoff3.replace(\"NA\", np.nan)\n",
    "\n",
    "# check for missing percent\n",
    "cutoff3.isna().sum().sum() / (cutoff3.shape[0] * cutoff3.shape[1])"
   ]
  },
  {
   "cell_type": "markdown",
   "metadata": {},
   "source": [
    "#### 3.1 KNN"
   ]
  },
  {
   "cell_type": "code",
   "execution_count": 36,
   "metadata": {},
   "outputs": [
    {
     "data": {
      "text/html": [
       "<div>\n",
       "<style scoped>\n",
       "    .dataframe tbody tr th:only-of-type {\n",
       "        vertical-align: middle;\n",
       "    }\n",
       "\n",
       "    .dataframe tbody tr th {\n",
       "        vertical-align: top;\n",
       "    }\n",
       "\n",
       "    .dataframe thead th {\n",
       "        text-align: right;\n",
       "    }\n",
       "</style>\n",
       "<table border=\"1\" class=\"dataframe\">\n",
       "  <thead>\n",
       "    <tr style=\"text-align: right;\">\n",
       "      <th></th>\n",
       "      <th>p1</th>\n",
       "      <th>p2</th>\n",
       "      <th>p3</th>\n",
       "      <th>p4</th>\n",
       "      <th>p5</th>\n",
       "      <th>p6</th>\n",
       "      <th>p7</th>\n",
       "      <th>p8</th>\n",
       "      <th>p9</th>\n",
       "      <th>p10</th>\n",
       "      <th>...</th>\n",
       "      <th>p3087</th>\n",
       "      <th>p3088</th>\n",
       "      <th>p3089</th>\n",
       "      <th>p3090</th>\n",
       "      <th>p3091</th>\n",
       "      <th>p3092</th>\n",
       "      <th>p3093</th>\n",
       "      <th>p3094</th>\n",
       "      <th>p3095</th>\n",
       "      <th>p3096</th>\n",
       "    </tr>\n",
       "  </thead>\n",
       "  <tbody>\n",
       "    <tr>\n",
       "      <th>A1CF</th>\n",
       "      <td>0.034754</td>\n",
       "      <td>-1.035830</td>\n",
       "      <td>-0.644251</td>\n",
       "      <td>-0.301869</td>\n",
       "      <td>-0.508497</td>\n",
       "      <td>-0.100324</td>\n",
       "      <td>-0.402016</td>\n",
       "      <td>-0.082245</td>\n",
       "      <td>0.313805</td>\n",
       "      <td>-0.232225</td>\n",
       "      <td>...</td>\n",
       "      <td>-0.094521</td>\n",
       "      <td>0.146812</td>\n",
       "      <td>-0.143388</td>\n",
       "      <td>0.215818</td>\n",
       "      <td>-0.082560</td>\n",
       "      <td>-0.037184</td>\n",
       "      <td>-0.820075</td>\n",
       "      <td>-0.042315</td>\n",
       "      <td>0.103525</td>\n",
       "      <td>-0.025957</td>\n",
       "    </tr>\n",
       "    <tr>\n",
       "      <th>A2M</th>\n",
       "      <td>0.288997</td>\n",
       "      <td>-0.018051</td>\n",
       "      <td>-8.514246</td>\n",
       "      <td>0.015577</td>\n",
       "      <td>-0.638949</td>\n",
       "      <td>3.576826</td>\n",
       "      <td>-0.000895</td>\n",
       "      <td>-0.032116</td>\n",
       "      <td>0.370526</td>\n",
       "      <td>0.135253</td>\n",
       "      <td>...</td>\n",
       "      <td>0.044040</td>\n",
       "      <td>0.079441</td>\n",
       "      <td>-0.000599</td>\n",
       "      <td>0.568577</td>\n",
       "      <td>0.746766</td>\n",
       "      <td>0.193966</td>\n",
       "      <td>-0.031147</td>\n",
       "      <td>0.152870</td>\n",
       "      <td>-0.041297</td>\n",
       "      <td>0.213473</td>\n",
       "    </tr>\n",
       "    <tr>\n",
       "      <th>A2ML1</th>\n",
       "      <td>-0.442144</td>\n",
       "      <td>-0.519741</td>\n",
       "      <td>-1.903725</td>\n",
       "      <td>-0.741799</td>\n",
       "      <td>-0.938857</td>\n",
       "      <td>-0.478538</td>\n",
       "      <td>-0.580323</td>\n",
       "      <td>-0.709895</td>\n",
       "      <td>1.557578</td>\n",
       "      <td>2.350527</td>\n",
       "      <td>...</td>\n",
       "      <td>-0.276216</td>\n",
       "      <td>-0.097540</td>\n",
       "      <td>-0.510364</td>\n",
       "      <td>2.203258</td>\n",
       "      <td>0.316485</td>\n",
       "      <td>0.527467</td>\n",
       "      <td>-0.668684</td>\n",
       "      <td>0.305148</td>\n",
       "      <td>-0.710331</td>\n",
       "      <td>0.631003</td>\n",
       "    </tr>\n",
       "    <tr>\n",
       "      <th>A4GALT</th>\n",
       "      <td>0.002402</td>\n",
       "      <td>-0.146944</td>\n",
       "      <td>-0.334566</td>\n",
       "      <td>-0.406734</td>\n",
       "      <td>-0.500678</td>\n",
       "      <td>0.107965</td>\n",
       "      <td>-1.224029</td>\n",
       "      <td>-0.241390</td>\n",
       "      <td>0.207367</td>\n",
       "      <td>-0.312079</td>\n",
       "      <td>...</td>\n",
       "      <td>-0.088926</td>\n",
       "      <td>-0.047279</td>\n",
       "      <td>-0.180655</td>\n",
       "      <td>0.611447</td>\n",
       "      <td>1.753172</td>\n",
       "      <td>0.003910</td>\n",
       "      <td>-0.356796</td>\n",
       "      <td>-0.020981</td>\n",
       "      <td>-0.399086</td>\n",
       "      <td>0.008706</td>\n",
       "    </tr>\n",
       "    <tr>\n",
       "      <th>A4GNT</th>\n",
       "      <td>0.002245</td>\n",
       "      <td>-0.113014</td>\n",
       "      <td>-0.541670</td>\n",
       "      <td>-0.144658</td>\n",
       "      <td>-0.221380</td>\n",
       "      <td>0.594788</td>\n",
       "      <td>-2.391317</td>\n",
       "      <td>-0.699465</td>\n",
       "      <td>1.161750</td>\n",
       "      <td>0.860161</td>\n",
       "      <td>...</td>\n",
       "      <td>0.627779</td>\n",
       "      <td>-0.590147</td>\n",
       "      <td>-0.106350</td>\n",
       "      <td>2.749847</td>\n",
       "      <td>-0.553453</td>\n",
       "      <td>0.020364</td>\n",
       "      <td>-0.079092</td>\n",
       "      <td>-0.391635</td>\n",
       "      <td>0.958123</td>\n",
       "      <td>1.354622</td>\n",
       "    </tr>\n",
       "  </tbody>\n",
       "</table>\n",
       "<p>5 rows × 3096 columns</p>\n",
       "</div>"
      ],
      "text/plain": [
       "              p1        p2        p3        p4        p5        p6        p7   \n",
       "A1CF    0.034754 -1.035830 -0.644251 -0.301869 -0.508497 -0.100324 -0.402016  \\\n",
       "A2M     0.288997 -0.018051 -8.514246  0.015577 -0.638949  3.576826 -0.000895   \n",
       "A2ML1  -0.442144 -0.519741 -1.903725 -0.741799 -0.938857 -0.478538 -0.580323   \n",
       "A4GALT  0.002402 -0.146944 -0.334566 -0.406734 -0.500678  0.107965 -1.224029   \n",
       "A4GNT   0.002245 -0.113014 -0.541670 -0.144658 -0.221380  0.594788 -2.391317   \n",
       "\n",
       "              p8        p9       p10  ...     p3087     p3088     p3089   \n",
       "A1CF   -0.082245  0.313805 -0.232225  ... -0.094521  0.146812 -0.143388  \\\n",
       "A2M    -0.032116  0.370526  0.135253  ...  0.044040  0.079441 -0.000599   \n",
       "A2ML1  -0.709895  1.557578  2.350527  ... -0.276216 -0.097540 -0.510364   \n",
       "A4GALT -0.241390  0.207367 -0.312079  ... -0.088926 -0.047279 -0.180655   \n",
       "A4GNT  -0.699465  1.161750  0.860161  ...  0.627779 -0.590147 -0.106350   \n",
       "\n",
       "           p3090     p3091     p3092     p3093     p3094     p3095     p3096  \n",
       "A1CF    0.215818 -0.082560 -0.037184 -0.820075 -0.042315  0.103525 -0.025957  \n",
       "A2M     0.568577  0.746766  0.193966 -0.031147  0.152870 -0.041297  0.213473  \n",
       "A2ML1   2.203258  0.316485  0.527467 -0.668684  0.305148 -0.710331  0.631003  \n",
       "A4GALT  0.611447  1.753172  0.003910 -0.356796 -0.020981 -0.399086  0.008706  \n",
       "A4GNT   2.749847 -0.553453  0.020364 -0.079092 -0.391635  0.958123  1.354622  \n",
       "\n",
       "[5 rows x 3096 columns]"
      ]
     },
     "execution_count": 36,
     "metadata": {},
     "output_type": "execute_result"
    }
   ],
   "source": [
    "# Initialize the KNN imputer\n",
    "imputer = KNNImputer(n_neighbors=20)\n",
    "\n",
    "# Perform the imputation\n",
    "imputed3_KNN20 = imputer.fit_transform(cutoff3)\n",
    "\n",
    "# Convert the imputed data back into a DataFrame and preserve the original index and column names\n",
    "imputed3_KNN20 = pd.DataFrame(imputed3_KNN20, columns=cutoff3.columns, index=cutoff3.index)\n",
    "\n",
    "imputed3_KNN20.head()"
   ]
  },
  {
   "cell_type": "code",
   "execution_count": 37,
   "metadata": {},
   "outputs": [
    {
     "data": {
      "text/plain": [
       "0.08572246602675775"
      ]
     },
     "execution_count": 37,
     "metadata": {},
     "output_type": "execute_result"
    }
   ],
   "source": [
    "nrmse(complete, imputed3_KNN20)"
   ]
  },
  {
   "cell_type": "markdown",
   "metadata": {},
   "source": [
    "#### 3.2 Mean Imputation"
   ]
  },
  {
   "cell_type": "code",
   "execution_count": 38,
   "metadata": {},
   "outputs": [],
   "source": [
    "# Mean imputation\n",
    "mean_imputer = SimpleImputer(missing_values=np.nan, strategy='mean')\n",
    "imputed3_Mean = pd.DataFrame(mean_imputer.fit_transform(cutoff3), columns=cutoff3.columns)"
   ]
  },
  {
   "cell_type": "code",
   "execution_count": 39,
   "metadata": {},
   "outputs": [
    {
     "data": {
      "text/plain": [
       "0.09029875323711936"
      ]
     },
     "execution_count": 39,
     "metadata": {},
     "output_type": "execute_result"
    }
   ],
   "source": [
    "nrmse(complete, imputed3_Mean)"
   ]
  },
  {
   "cell_type": "markdown",
   "metadata": {},
   "source": [
    "#### 3.3 Median Imputation"
   ]
  },
  {
   "cell_type": "code",
   "execution_count": 40,
   "metadata": {},
   "outputs": [],
   "source": [
    "# Median imputation\n",
    "median_imputer = SimpleImputer(missing_values=np.nan, strategy='median')\n",
    "imputed3_Median = pd.DataFrame(median_imputer.fit_transform(cutoff3), columns=cutoff3.columns)"
   ]
  },
  {
   "cell_type": "code",
   "execution_count": 41,
   "metadata": {},
   "outputs": [
    {
     "data": {
      "text/plain": [
       "0.09078642419399732"
      ]
     },
     "execution_count": 41,
     "metadata": {},
     "output_type": "execute_result"
    }
   ],
   "source": [
    "nrmse(complete, imputed3_Median)"
   ]
  },
  {
   "cell_type": "markdown",
   "metadata": {},
   "source": [
    "#### 3.4 Mode Imputation"
   ]
  },
  {
   "cell_type": "code",
   "execution_count": 42,
   "metadata": {},
   "outputs": [
    {
     "name": "stderr",
     "output_type": "stream",
     "text": [
      "/opt/anaconda3/lib/python3.9/site-packages/sklearn/impute/_base.py:49: FutureWarning: Unlike other reduction functions (e.g. `skew`, `kurtosis`), the default behavior of `mode` typically preserves the axis it acts along. In SciPy 1.11.0, this behavior will change: the default value of `keepdims` will become False, the `axis` over which the statistic is taken will be eliminated, and the value None will no longer be accepted. Set `keepdims` to True or False to avoid this warning.\n",
      "  mode = stats.mode(array)\n"
     ]
    }
   ],
   "source": [
    "# Mode imputation\n",
    "mode_imputer = SimpleImputer(missing_values=np.nan, strategy='most_frequent')\n",
    "imputed3_Mode = pd.DataFrame(mode_imputer.fit_transform(cutoff3), columns=cutoff3.columns)"
   ]
  },
  {
   "cell_type": "code",
   "execution_count": 43,
   "metadata": {},
   "outputs": [
    {
     "data": {
      "text/plain": [
       "0.145922055611472"
      ]
     },
     "execution_count": 43,
     "metadata": {},
     "output_type": "execute_result"
    }
   ],
   "source": [
    "nrmse(complete, imputed3_Mode)"
   ]
  },
  {
   "cell_type": "code",
   "execution_count": null,
   "metadata": {},
   "outputs": [],
   "source": []
  }
 ],
 "metadata": {
  "kernelspec": {
   "display_name": "base",
   "language": "python",
   "name": "python3"
  },
  "language_info": {
   "codemirror_mode": {
    "name": "ipython",
    "version": 3
   },
   "file_extension": ".py",
   "mimetype": "text/x-python",
   "name": "python",
   "nbconvert_exporter": "python",
   "pygments_lexer": "ipython3",
   "version": "3.9.7"
  },
  "orig_nbformat": 4
 },
 "nbformat": 4,
 "nbformat_minor": 2
}
